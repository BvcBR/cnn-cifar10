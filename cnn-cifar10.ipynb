{
  "cells": [
    {
      "cell_type": "code",
      "execution_count": 21,
      "id": "56ad83e9",
      "metadata": {
        "id": "56ad83e9"
      },
      "outputs": [],
      "source": [
        "import torch\n",
        "from torch.utils.data import DataLoader\n",
        "from torchvision import datasets\n",
        "from torchvision.transforms import ToTensor\n",
        "from torch import nn\n",
        "import torch.optim as optim\n",
        "from torchvision.transforms import v2"
      ]
    },
    {
      "cell_type": "code",
      "execution_count": 22,
      "id": "a8e856b4",
      "metadata": {
        "colab": {
          "base_uri": "https://localhost:8080/"
        },
        "id": "a8e856b4",
        "outputId": "d3a8ab1c-9d37-4660-c7c8-8869f32efea0"
      },
      "outputs": [
        {
          "output_type": "stream",
          "name": "stdout",
          "text": [
            "Using device: cuda\n"
          ]
        }
      ],
      "source": [
        "if torch.cuda.is_available():\n",
        "    device = torch.device(\"cuda\")\n",
        "elif torch.backends.mps.is_available():\n",
        "    device = torch.device(\"mps\")\n",
        "else:\n",
        "    device = torch.device(\"cpu\")\n",
        "\n",
        "print(f\"Using device: {device}\")"
      ]
    },
    {
      "cell_type": "code",
      "source": [
        "transforms = v2.Compose([\n",
        "    v2.RandomHorizontalFlip(p=0.5),\n",
        "    v2.ToImage(),\n",
        "    v2.ToDtype(torch.float32),\n",
        "    v2.ColorJitter(brightness=0.1, contrast=0.1, saturation=0.1, hue=0.05)\n",
        "])"
      ],
      "metadata": {
        "id": "3ErFzpFS4E3o"
      },
      "id": "3ErFzpFS4E3o",
      "execution_count": 30,
      "outputs": []
    },
    {
      "cell_type": "code",
      "execution_count": 24,
      "id": "853caca9",
      "metadata": {
        "colab": {
          "base_uri": "https://localhost:8080/"
        },
        "id": "853caca9",
        "outputId": "089d6306-2485-4f87-841d-78a745068fd7"
      },
      "outputs": [
        {
          "output_type": "stream",
          "name": "stdout",
          "text": [
            "Files already downloaded and verified\n",
            "Files already downloaded and verified\n"
          ]
        }
      ],
      "source": [
        "# Load the datasets\n",
        "training_data = datasets.CIFAR10(\n",
        "    root=\"data\",\n",
        "    train=True,\n",
        "    download=True,\n",
        "    transform=ToTensor(),\n",
        "    target_transform=lambda y: torch.tensor(y, dtype=torch.long)\n",
        ")\n",
        "\n",
        "test_data = datasets.CIFAR10(\n",
        "    root=\"data\",\n",
        "    train=False,\n",
        "    download=True,\n",
        "    transform=ToTensor(),\n",
        "    target_transform=lambda y: torch.tensor(y, dtype=torch.long)\n",
        ")"
      ]
    },
    {
      "cell_type": "code",
      "execution_count": 25,
      "id": "ef829f8e",
      "metadata": {
        "id": "ef829f8e"
      },
      "outputs": [],
      "source": [
        "class MyCNN (nn.Module):\n",
        "    def __init__(self):\n",
        "        super(MyCNN, self).__init__()\n",
        "        self.convolutional_stack = nn.Sequential(\n",
        "        nn.Conv2d(3, 8, 3),\n",
        "        nn.BatchNorm2d(8),  # Batch normalization after convolution\n",
        "        nn.ReLU(),\n",
        "        nn.MaxPool2d(2,2),\n",
        "        nn.Conv2d(8, 16, 3),\n",
        "        nn.BatchNorm2d(16),  # Batch normalization after convolution\n",
        "        nn.ReLU(),\n",
        "        nn.MaxPool2d(2,2),\n",
        "        nn.Flatten(),\n",
        "        nn.Linear(576, 120),\n",
        "        nn.ReLU(),\n",
        "        nn.Linear(120, 120),\n",
        "        nn.ReLU(),\n",
        "        nn.Linear(120,10)\n",
        "         )\n",
        "    def forward(self, x):\n",
        "        logits = self.convolutional_stack(x)\n",
        "        return logits"
      ]
    },
    {
      "cell_type": "code",
      "execution_count": 26,
      "id": "32c62387",
      "metadata": {
        "id": "32c62387"
      },
      "outputs": [],
      "source": [
        "model = MyCNN().to(device)\n",
        "\n",
        "train_loader = DataLoader(training_data, batch_size=4, shuffle=True)\n",
        "test_loader = DataLoader(test_data, batch_size=4, shuffle=False)\n",
        "\n",
        "loss_fn = nn.CrossEntropyLoss()\n",
        "\n",
        "optimizer = optim.SGD(model.parameters(), lr = 0.01)"
      ]
    },
    {
      "cell_type": "code",
      "execution_count": 27,
      "id": "d57d8401",
      "metadata": {
        "colab": {
          "base_uri": "https://localhost:8080/"
        },
        "id": "d57d8401",
        "outputId": "dab6758e-3632-4fb1-8ddd-5f4950c8fff6"
      },
      "outputs": [
        {
          "output_type": "stream",
          "name": "stdout",
          "text": [
            "0.9079392552375793\n",
            "1.4606890678405762\n",
            "0.3916834890842438\n",
            "0.6289560794830322\n",
            "1.1819095611572266\n",
            "1.220747947692871\n",
            "0.6954994201660156\n",
            "0.6635934114456177\n",
            "0.35209324955940247\n",
            "1.2059999704360962\n",
            "0.4059576690196991\n",
            "0.1511380672454834\n"
          ]
        }
      ],
      "source": [
        "for i in range(12):\n",
        "    lossi = 0.0\n",
        "    for input, label in train_loader:\n",
        "        input, label = input.to(device), label.to(device)\n",
        "        logits = model(input)\n",
        "        loss = loss_fn(logits, label)\n",
        "        optimizer.zero_grad()\n",
        "        loss.backward()\n",
        "        optimizer.step()\n",
        "        lossi = loss.item()\n",
        "    print(lossi)"
      ]
    },
    {
      "cell_type": "code",
      "execution_count": 28,
      "id": "e1f196aa",
      "metadata": {
        "colab": {
          "base_uri": "https://localhost:8080/"
        },
        "id": "e1f196aa",
        "outputId": "20f736e0-8374-4fe5-9836-81406892ae9c"
      },
      "outputs": [
        {
          "output_type": "stream",
          "name": "stdout",
          "text": [
            "0.06777887791395187\n",
            "0.23621954023838043\n"
          ]
        }
      ],
      "source": [
        "optimizer = optim.SGD(model.parameters(), lr = 0.001)\n",
        "for i in range(2):\n",
        "    lossi = 0.0\n",
        "\n",
        "    for input, label in train_loader:\n",
        "        input, label = input.to(device), label.to(device)\n",
        "        logits = model(input)\n",
        "        loss = loss_fn(logits, label)\n",
        "        optimizer.zero_grad()\n",
        "        loss.backward()\n",
        "        optimizer.step()\n",
        "        lossi = loss.item()\n",
        "    print(lossi)"
      ]
    },
    {
      "cell_type": "code",
      "execution_count": 29,
      "id": "00a3c615",
      "metadata": {
        "colab": {
          "base_uri": "https://localhost:8080/"
        },
        "id": "00a3c615",
        "outputId": "7ca17a76-3cf4-43c6-d634-9b0af7b5aab4"
      },
      "outputs": [
        {
          "output_type": "stream",
          "name": "stdout",
          "text": [
            "Accuracy on the test set: 69.12%\n"
          ]
        }
      ],
      "source": [
        "# Evaluation loop\n",
        "model.eval()  # Set the model to evaluation mode\n",
        "correct = 0\n",
        "total = 0\n",
        "with torch.no_grad():  # Disable gradient calculation during evaluation\n",
        "    for input, label in test_loader:\n",
        "        input, label = input.to(device), label.to(device)  # Move input and labels to device\n",
        "        logits = model(input)\n",
        "        _, predicted = torch.max(logits, 1)  # Get the predicted class with highest probability\n",
        "        total += label.size(0)  # Increment the total number of samples\n",
        "        correct += (predicted == label).sum().item()  # Increment the number of correctly predicted samples\n",
        "\n",
        "print(f\"Accuracy on the test set: {(correct / total) * 100:.2f}%\")"
      ]
    },
    {
      "cell_type": "code",
      "execution_count": null,
      "id": "ab379d2b",
      "metadata": {
        "id": "ab379d2b"
      },
      "outputs": [],
      "source": []
    }
  ],
  "metadata": {
    "kernelspec": {
      "display_name": "Python 3",
      "name": "python3"
    },
    "language_info": {
      "codemirror_mode": {
        "name": "ipython",
        "version": 3
      },
      "file_extension": ".py",
      "mimetype": "text/x-python",
      "name": "python",
      "nbconvert_exporter": "python",
      "pygments_lexer": "ipython3",
      "version": "3.11.4"
    },
    "colab": {
      "provenance": [],
      "gpuType": "T4"
    },
    "accelerator": "GPU"
  },
  "nbformat": 4,
  "nbformat_minor": 5
}